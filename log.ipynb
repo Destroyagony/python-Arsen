{
 "cells": [
  {
   "cell_type": "code",
   "execution_count": null,
   "metadata": {},
   "outputs": [],
   "source": [
    "05.12.2023 \n",
    "Ознакомление GitHub, fork, pull request\n",
    "VScode  clone, pull, push, commit \n",
    "telegram bootcamp, channels\n",
    "\n"
   ]
  }
 ],
 "metadata": {
  "language_info": {
   "name": "python"
  },
  "orig_nbformat": 4
 },
 "nbformat": 4,
 "nbformat_minor": 2
}
